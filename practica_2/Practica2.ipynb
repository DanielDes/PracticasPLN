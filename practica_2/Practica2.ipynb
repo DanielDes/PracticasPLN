{
 "cells": [
  {
   "cell_type": "markdown",
   "metadata": {},
   "source": [
    "Word embeddings con bigramas \n",
    "\n",
    "Primero de todo el corpus tenemos que identificar todas las palabras que existen y tenemos que asignarle un índice para identificarlos posteriormente. Luego, tenemos que crear los bigramas usando los índices.\n",
    "\n",
    "La red se compone de tres capas, y una capa de entrada.\n",
    "\n",
    "Las capas son las siguientes:\n",
    "* Entrada\n",
    "* Embeddings (Multiplicación de matrices)\n",
    "* Tanh\n",
    "* SoftMax\n",
    "\n",
    "La salida será un vector de tamaño N, donde N es el número de palabras diferentes en el corpus. Cada valor del vector será la probabilidad asociada al índice de dicho vector de formar ese bigrama."
   ]
  }
 ],
 "metadata": {
  "kernelspec": {
   "display_name": "Python 3",
   "language": "python",
   "name": "python3"
  },
  "language_info": {
   "codemirror_mode": {
    "name": "ipython",
    "version": 3
   },
   "file_extension": ".py",
   "mimetype": "text/x-python",
   "name": "python",
   "nbconvert_exporter": "python",
   "pygments_lexer": "ipython3",
   "version": "3.7.5"
  }
 },
 "nbformat": 4,
 "nbformat_minor": 2
}

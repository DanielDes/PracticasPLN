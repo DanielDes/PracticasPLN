{
  "nbformat": 4,
  "nbformat_minor": 0,
  "metadata": {
    "colab": {
      "name": "Practica2.ipynb",
      "provenance": [],
      "collapsed_sections": [],
      "authorship_tag": "ABX9TyN11rqM+SZp+aK1NYmaE0wF",
      "include_colab_link": true
    },
    "kernelspec": {
      "name": "python3",
      "display_name": "Python 3"
    },
    "accelerator": "GPU"
  },
  "cells": [
    {
      "cell_type": "markdown",
      "metadata": {
        "id": "view-in-github",
        "colab_type": "text"
      },
      "source": [
        "<a href=\"https://colab.research.google.com/github/DanielDes/PracticasPLN/blob/master/Practica2.ipynb\" target=\"_parent\"><img src=\"https://colab.research.google.com/assets/colab-badge.svg\" alt=\"Open In Colab\"/></a>"
      ]
    },
    {
      "cell_type": "markdown",
      "metadata": {
        "id": "1RMQO7isJjkp",
        "colab_type": "text"
      },
      "source": [
        "# Practica 2\n",
        "\n",
        "De San Pedro Vázquez Luis Daniel"
      ]
    },
    {
      "cell_type": "code",
      "metadata": {
        "id": "_5NasX7384kr",
        "colab_type": "code",
        "colab": {}
      },
      "source": [
        "from google.colab import files\n",
        "import io\n",
        "\n",
        "\n",
        "def upload_corpus():\n",
        "  \n",
        "  uploaded_files = files.upload()\n",
        "  key = list(uploaded_files.keys())[0]\n",
        "  corpus = uploaded_files[key].decode('utf8')\n",
        "\n",
        "  return corpus"
      ],
      "execution_count": 0,
      "outputs": []
    },
    {
      "cell_type": "code",
      "metadata": {
        "id": "-vxQ7Dp9RTdy",
        "colab_type": "code",
        "colab": {
          "resources": {
            "http://localhost:8080/nbextensions/google.colab/files.js": {
              "data": "Ly8gQ29weXJpZ2h0IDIwMTcgR29vZ2xlIExMQwovLwovLyBMaWNlbnNlZCB1bmRlciB0aGUgQXBhY2hlIExpY2Vuc2UsIFZlcnNpb24gMi4wICh0aGUgIkxpY2Vuc2UiKTsKLy8geW91IG1heSBub3QgdXNlIHRoaXMgZmlsZSBleGNlcHQgaW4gY29tcGxpYW5jZSB3aXRoIHRoZSBMaWNlbnNlLgovLyBZb3UgbWF5IG9idGFpbiBhIGNvcHkgb2YgdGhlIExpY2Vuc2UgYXQKLy8KLy8gICAgICBodHRwOi8vd3d3LmFwYWNoZS5vcmcvbGljZW5zZXMvTElDRU5TRS0yLjAKLy8KLy8gVW5sZXNzIHJlcXVpcmVkIGJ5IGFwcGxpY2FibGUgbGF3IG9yIGFncmVlZCB0byBpbiB3cml0aW5nLCBzb2Z0d2FyZQovLyBkaXN0cmlidXRlZCB1bmRlciB0aGUgTGljZW5zZSBpcyBkaXN0cmlidXRlZCBvbiBhbiAiQVMgSVMiIEJBU0lTLAovLyBXSVRIT1VUIFdBUlJBTlRJRVMgT1IgQ09ORElUSU9OUyBPRiBBTlkgS0lORCwgZWl0aGVyIGV4cHJlc3Mgb3IgaW1wbGllZC4KLy8gU2VlIHRoZSBMaWNlbnNlIGZvciB0aGUgc3BlY2lmaWMgbGFuZ3VhZ2UgZ292ZXJuaW5nIHBlcm1pc3Npb25zIGFuZAovLyBsaW1pdGF0aW9ucyB1bmRlciB0aGUgTGljZW5zZS4KCi8qKgogKiBAZmlsZW92ZXJ2aWV3IEhlbHBlcnMgZm9yIGdvb2dsZS5jb2xhYiBQeXRob24gbW9kdWxlLgogKi8KKGZ1bmN0aW9uKHNjb3BlKSB7CmZ1bmN0aW9uIHNwYW4odGV4dCwgc3R5bGVBdHRyaWJ1dGVzID0ge30pIHsKICBjb25zdCBlbGVtZW50ID0gZG9jdW1lbnQuY3JlYXRlRWxlbWVudCgnc3BhbicpOwogIGVsZW1lbnQudGV4dENvbnRlbnQgPSB0ZXh0OwogIGZvciAoY29uc3Qga2V5IG9mIE9iamVjdC5rZXlzKHN0eWxlQXR0cmlidXRlcykpIHsKICAgIGVsZW1lbnQuc3R5bGVba2V5XSA9IHN0eWxlQXR0cmlidXRlc1trZXldOwogIH0KICByZXR1cm4gZWxlbWVudDsKfQoKLy8gTWF4IG51bWJlciBvZiBieXRlcyB3aGljaCB3aWxsIGJlIHVwbG9hZGVkIGF0IGEgdGltZS4KY29uc3QgTUFYX1BBWUxPQURfU0laRSA9IDEwMCAqIDEwMjQ7Ci8vIE1heCBhbW91bnQgb2YgdGltZSB0byBibG9jayB3YWl0aW5nIGZvciB0aGUgdXNlci4KY29uc3QgRklMRV9DSEFOR0VfVElNRU9VVF9NUyA9IDMwICogMTAwMDsKCmZ1bmN0aW9uIF91cGxvYWRGaWxlcyhpbnB1dElkLCBvdXRwdXRJZCkgewogIGNvbnN0IHN0ZXBzID0gdXBsb2FkRmlsZXNTdGVwKGlucHV0SWQsIG91dHB1dElkKTsKICBjb25zdCBvdXRwdXRFbGVtZW50ID0gZG9jdW1lbnQuZ2V0RWxlbWVudEJ5SWQob3V0cHV0SWQpOwogIC8vIENhY2hlIHN0ZXBzIG9uIHRoZSBvdXRwdXRFbGVtZW50IHRvIG1ha2UgaXQgYXZhaWxhYmxlIGZvciB0aGUgbmV4dCBjYWxsCiAgLy8gdG8gdXBsb2FkRmlsZXNDb250aW51ZSBmcm9tIFB5dGhvbi4KICBvdXRwdXRFbGVtZW50LnN0ZXBzID0gc3RlcHM7CgogIHJldHVybiBfdXBsb2FkRmlsZXNDb250aW51ZShvdXRwdXRJZCk7Cn0KCi8vIFRoaXMgaXMgcm91Z2hseSBhbiBhc3luYyBnZW5lcmF0b3IgKG5vdCBzdXBwb3J0ZWQgaW4gdGhlIGJyb3dzZXIgeWV0KSwKLy8gd2hlcmUgdGhlcmUgYXJlIG11bHRpcGxlIGFzeW5jaHJvbm91cyBzdGVwcyBhbmQgdGhlIFB5dGhvbiBzaWRlIGlzIGdvaW5nCi8vIHRvIHBvbGwgZm9yIGNvbXBsZXRpb24gb2YgZWFjaCBzdGVwLgovLyBUaGlzIHVzZXMgYSBQcm9taXNlIHRvIGJsb2NrIHRoZSBweXRob24gc2lkZSBvbiBjb21wbGV0aW9uIG9mIGVhY2ggc3RlcCwKLy8gdGhlbiBwYXNzZXMgdGhlIHJlc3VsdCBvZiB0aGUgcHJldmlvdXMgc3RlcCBhcyB0aGUgaW5wdXQgdG8gdGhlIG5leHQgc3RlcC4KZnVuY3Rpb24gX3VwbG9hZEZpbGVzQ29udGludWUob3V0cHV0SWQpIHsKICBjb25zdCBvdXRwdXRFbGVtZW50ID0gZG9jdW1lbnQuZ2V0RWxlbWVudEJ5SWQob3V0cHV0SWQpOwogIGNvbnN0IHN0ZXBzID0gb3V0cHV0RWxlbWVudC5zdGVwczsKCiAgY29uc3QgbmV4dCA9IHN0ZXBzLm5leHQob3V0cHV0RWxlbWVudC5sYXN0UHJvbWlzZVZhbHVlKTsKICByZXR1cm4gUHJvbWlzZS5yZXNvbHZlKG5leHQudmFsdWUucHJvbWlzZSkudGhlbigodmFsdWUpID0+IHsKICAgIC8vIENhY2hlIHRoZSBsYXN0IHByb21pc2UgdmFsdWUgdG8gbWFrZSBpdCBhdmFpbGFibGUgdG8gdGhlIG5leHQKICAgIC8vIHN0ZXAgb2YgdGhlIGdlbmVyYXRvci4KICAgIG91dHB1dEVsZW1lbnQubGFzdFByb21pc2VWYWx1ZSA9IHZhbHVlOwogICAgcmV0dXJuIG5leHQudmFsdWUucmVzcG9uc2U7CiAgfSk7Cn0KCi8qKgogKiBHZW5lcmF0b3IgZnVuY3Rpb24gd2hpY2ggaXMgY2FsbGVkIGJldHdlZW4gZWFjaCBhc3luYyBzdGVwIG9mIHRoZSB1cGxvYWQKICogcHJvY2Vzcy4KICogQHBhcmFtIHtzdHJpbmd9IGlucHV0SWQgRWxlbWVudCBJRCBvZiB0aGUgaW5wdXQgZmlsZSBwaWNrZXIgZWxlbWVudC4KICogQHBhcmFtIHtzdHJpbmd9IG91dHB1dElkIEVsZW1lbnQgSUQgb2YgdGhlIG91dHB1dCBkaXNwbGF5LgogKiBAcmV0dXJuIHshSXRlcmFibGU8IU9iamVjdD59IEl0ZXJhYmxlIG9mIG5leHQgc3RlcHMuCiAqLwpmdW5jdGlvbiogdXBsb2FkRmlsZXNTdGVwKGlucHV0SWQsIG91dHB1dElkKSB7CiAgY29uc3QgaW5wdXRFbGVtZW50ID0gZG9jdW1lbnQuZ2V0RWxlbWVudEJ5SWQoaW5wdXRJZCk7CiAgaW5wdXRFbGVtZW50LmRpc2FibGVkID0gZmFsc2U7CgogIGNvbnN0IG91dHB1dEVsZW1lbnQgPSBkb2N1bWVudC5nZXRFbGVtZW50QnlJZChvdXRwdXRJZCk7CiAgb3V0cHV0RWxlbWVudC5pbm5lckhUTUwgPSAnJzsKCiAgY29uc3QgcGlja2VkUHJvbWlzZSA9IG5ldyBQcm9taXNlKChyZXNvbHZlKSA9PiB7CiAgICBpbnB1dEVsZW1lbnQuYWRkRXZlbnRMaXN0ZW5lcignY2hhbmdlJywgKGUpID0+IHsKICAgICAgcmVzb2x2ZShlLnRhcmdldC5maWxlcyk7CiAgICB9KTsKICB9KTsKCiAgY29uc3QgY2FuY2VsID0gZG9jdW1lbnQuY3JlYXRlRWxlbWVudCgnYnV0dG9uJyk7CiAgaW5wdXRFbGVtZW50LnBhcmVudEVsZW1lbnQuYXBwZW5kQ2hpbGQoY2FuY2VsKTsKICBjYW5jZWwudGV4dENvbnRlbnQgPSAnQ2FuY2VsIHVwbG9hZCc7CiAgY29uc3QgY2FuY2VsUHJvbWlzZSA9IG5ldyBQcm9taXNlKChyZXNvbHZlKSA9PiB7CiAgICBjYW5jZWwub25jbGljayA9ICgpID0+IHsKICAgICAgcmVzb2x2ZShudWxsKTsKICAgIH07CiAgfSk7CgogIC8vIENhbmNlbCB1cGxvYWQgaWYgdXNlciBoYXNuJ3QgcGlja2VkIGFueXRoaW5nIGluIHRpbWVvdXQuCiAgY29uc3QgdGltZW91dFByb21pc2UgPSBuZXcgUHJvbWlzZSgocmVzb2x2ZSkgPT4gewogICAgc2V0VGltZW91dCgoKSA9PiB7CiAgICAgIHJlc29sdmUobnVsbCk7CiAgICB9LCBGSUxFX0NIQU5HRV9USU1FT1VUX01TKTsKICB9KTsKCiAgLy8gV2FpdCBmb3IgdGhlIHVzZXIgdG8gcGljayB0aGUgZmlsZXMuCiAgY29uc3QgZmlsZXMgPSB5aWVsZCB7CiAgICBwcm9taXNlOiBQcm9taXNlLnJhY2UoW3BpY2tlZFByb21pc2UsIHRpbWVvdXRQcm9taXNlLCBjYW5jZWxQcm9taXNlXSksCiAgICByZXNwb25zZTogewogICAgICBhY3Rpb246ICdzdGFydGluZycsCiAgICB9CiAgfTsKCiAgaWYgKCFmaWxlcykgewogICAgcmV0dXJuIHsKICAgICAgcmVzcG9uc2U6IHsKICAgICAgICBhY3Rpb246ICdjb21wbGV0ZScsCiAgICAgIH0KICAgIH07CiAgfQoKICBjYW5jZWwucmVtb3ZlKCk7CgogIC8vIERpc2FibGUgdGhlIGlucHV0IGVsZW1lbnQgc2luY2UgZnVydGhlciBwaWNrcyBhcmUgbm90IGFsbG93ZWQuCiAgaW5wdXRFbGVtZW50LmRpc2FibGVkID0gdHJ1ZTsKCiAgZm9yIChjb25zdCBmaWxlIG9mIGZpbGVzKSB7CiAgICBjb25zdCBsaSA9IGRvY3VtZW50LmNyZWF0ZUVsZW1lbnQoJ2xpJyk7CiAgICBsaS5hcHBlbmQoc3BhbihmaWxlLm5hbWUsIHtmb250V2VpZ2h0OiAnYm9sZCd9KSk7CiAgICBsaS5hcHBlbmQoc3BhbigKICAgICAgICBgKCR7ZmlsZS50eXBlIHx8ICduL2EnfSkgLSAke2ZpbGUuc2l6ZX0gYnl0ZXMsIGAgKwogICAgICAgIGBsYXN0IG1vZGlmaWVkOiAkewogICAgICAgICAgICBmaWxlLmxhc3RNb2RpZmllZERhdGUgPyBmaWxlLmxhc3RNb2RpZmllZERhdGUudG9Mb2NhbGVEYXRlU3RyaW5nKCkgOgogICAgICAgICAgICAgICAgICAgICAgICAgICAgICAgICAgICAnbi9hJ30gLSBgKSk7CiAgICBjb25zdCBwZXJjZW50ID0gc3BhbignMCUgZG9uZScpOwogICAgbGkuYXBwZW5kQ2hpbGQocGVyY2VudCk7CgogICAgb3V0cHV0RWxlbWVudC5hcHBlbmRDaGlsZChsaSk7CgogICAgY29uc3QgZmlsZURhdGFQcm9taXNlID0gbmV3IFByb21pc2UoKHJlc29sdmUpID0+IHsKICAgICAgY29uc3QgcmVhZGVyID0gbmV3IEZpbGVSZWFkZXIoKTsKICAgICAgcmVhZGVyLm9ubG9hZCA9IChlKSA9PiB7CiAgICAgICAgcmVzb2x2ZShlLnRhcmdldC5yZXN1bHQpOwogICAgICB9OwogICAgICByZWFkZXIucmVhZEFzQXJyYXlCdWZmZXIoZmlsZSk7CiAgICB9KTsKICAgIC8vIFdhaXQgZm9yIHRoZSBkYXRhIHRvIGJlIHJlYWR5LgogICAgbGV0IGZpbGVEYXRhID0geWllbGQgewogICAgICBwcm9taXNlOiBmaWxlRGF0YVByb21pc2UsCiAgICAgIHJlc3BvbnNlOiB7CiAgICAgICAgYWN0aW9uOiAnY29udGludWUnLAogICAgICB9CiAgICB9OwoKICAgIC8vIFVzZSBhIGNodW5rZWQgc2VuZGluZyB0byBhdm9pZCBtZXNzYWdlIHNpemUgbGltaXRzLiBTZWUgYi82MjExNTY2MC4KICAgIGxldCBwb3NpdGlvbiA9IDA7CiAgICB3aGlsZSAocG9zaXRpb24gPCBmaWxlRGF0YS5ieXRlTGVuZ3RoKSB7CiAgICAgIGNvbnN0IGxlbmd0aCA9IE1hdGgubWluKGZpbGVEYXRhLmJ5dGVMZW5ndGggLSBwb3NpdGlvbiwgTUFYX1BBWUxPQURfU0laRSk7CiAgICAgIGNvbnN0IGNodW5rID0gbmV3IFVpbnQ4QXJyYXkoZmlsZURhdGEsIHBvc2l0aW9uLCBsZW5ndGgpOwogICAgICBwb3NpdGlvbiArPSBsZW5ndGg7CgogICAgICBjb25zdCBiYXNlNjQgPSBidG9hKFN0cmluZy5mcm9tQ2hhckNvZGUuYXBwbHkobnVsbCwgY2h1bmspKTsKICAgICAgeWllbGQgewogICAgICAgIHJlc3BvbnNlOiB7CiAgICAgICAgICBhY3Rpb246ICdhcHBlbmQnLAogICAgICAgICAgZmlsZTogZmlsZS5uYW1lLAogICAgICAgICAgZGF0YTogYmFzZTY0LAogICAgICAgIH0sCiAgICAgIH07CiAgICAgIHBlcmNlbnQudGV4dENvbnRlbnQgPQogICAgICAgICAgYCR7TWF0aC5yb3VuZCgocG9zaXRpb24gLyBmaWxlRGF0YS5ieXRlTGVuZ3RoKSAqIDEwMCl9JSBkb25lYDsKICAgIH0KICB9CgogIC8vIEFsbCBkb25lLgogIHlpZWxkIHsKICAgIHJlc3BvbnNlOiB7CiAgICAgIGFjdGlvbjogJ2NvbXBsZXRlJywKICAgIH0KICB9Owp9CgpzY29wZS5nb29nbGUgPSBzY29wZS5nb29nbGUgfHwge307CnNjb3BlLmdvb2dsZS5jb2xhYiA9IHNjb3BlLmdvb2dsZS5jb2xhYiB8fCB7fTsKc2NvcGUuZ29vZ2xlLmNvbGFiLl9maWxlcyA9IHsKICBfdXBsb2FkRmlsZXMsCiAgX3VwbG9hZEZpbGVzQ29udGludWUsCn07Cn0pKHNlbGYpOwo=",
              "ok": true,
              "headers": [
                [
                  "content-type",
                  "application/javascript"
                ]
              ],
              "status": 200,
              "status_text": ""
            }
          },
          "base_uri": "https://localhost:8080/",
          "height": 71
        },
        "outputId": "42732466-2365-4830-8894-0064f3956310"
      },
      "source": [
        "import re\n",
        "def remove_symbols(word):\n",
        "  word = word.lower()\n",
        "  if re.match('^[^ a-z A-Z]',word):\n",
        "    word = word[1:]\n",
        "  if re.match('[a-z A-Z]*[^ a-z A-Z á é í ó ú]$', word):\n",
        "    word = word[:-1]\n",
        "  return word\n",
        "\n",
        "def prepare_corpus(corpus):\n",
        "  corpus = list( list(map(remove_symbols,sentence.split(' '))) for sentence in corpus.split('\\n'))\n",
        "  for sentence in corpus:\n",
        "    if len(sentence) == 1:\n",
        "      corpus.remove(sentence)\n",
        "      break\n",
        "    sentence.insert(0,'+')\n",
        "    sentence.append('-')\n",
        "  return corpus\n",
        "\n",
        "corpus = upload_corpus()\n",
        "clean_corpus = prepare_corpus(corpus)\n"
      ],
      "execution_count": 4,
      "outputs": [
        {
          "output_type": "display_data",
          "data": {
            "text/html": [
              "\n",
              "     <input type=\"file\" id=\"files-c178b97b-3522-4e93-876f-8e50eccfeb47\" name=\"files[]\" multiple disabled />\n",
              "     <output id=\"result-c178b97b-3522-4e93-876f-8e50eccfeb47\">\n",
              "      Upload widget is only available when the cell has been executed in the\n",
              "      current browser session. Please rerun this cell to enable.\n",
              "      </output>\n",
              "      <script src=\"/nbextensions/google.colab/files.js\"></script> "
            ],
            "text/plain": [
              "<IPython.core.display.HTML object>"
            ]
          },
          "metadata": {
            "tags": []
          }
        },
        {
          "output_type": "stream",
          "text": [
            "Saving corpusML.txt to corpusML.txt\n"
          ],
          "name": "stdout"
        }
      ]
    },
    {
      "cell_type": "code",
      "metadata": {
        "id": "Q3CgMW9Keo9v",
        "colab_type": "code",
        "outputId": "70ed1601-7f01-4787-e8fe-9d132b044529",
        "colab": {
          "base_uri": "https://localhost:8080/",
          "height": 54
        }
      },
      "source": [
        "def prepare_hashmap(corpus):\n",
        "  index = 0\n",
        "  hashmap = {}\n",
        "  for sentence in corpus:\n",
        "    for word in sentence:\n",
        "      try:\n",
        "        value = hashmap[word]\n",
        "      except KeyError:\n",
        "        hashmap[word] = index\n",
        "        index += 1\n",
        "  return hashmap \n",
        "\n",
        "hashmap = prepare_hashmap(clean_corpus)\n",
        "print(hashmap)"
      ],
      "execution_count": 5,
      "outputs": [
        {
          "output_type": "stream",
          "text": [
            "{'+': 0, 'comencé': 1, 'a': 2, 'trabajar': 3, 'y': 4, 'me': 5, 'pegaron': 6, 'maltrataron': 7, 'con': 8, 'chicote': 9, '': 10, '-': 11, 'mis': 12, 'patrones': 13, 'porque': 14, 'no': 15, 'quería': 16, 'apurar': 17, 'era': 18, 'flojo': 19, 'por': 20, 'eso': 21, 'habían': 22, 'pegado': 23, 'cuando': 24, 'pegaban': 25, 'ya': 26, 'entonces': 27, 'quitaba': 28, 'pues': 29, 'quise': 30, 'estar': 31, 'como': 32, 'después': 33, 'estuve': 34, 'nomás': 35, 'en': 36, 'mi': 37, 'casa': 38, 'fui': 39, 'juntar': 40, 'caca': 41, 'de': 42, 'caballo': 43, 'caquitas': 44, 'se': 45, 'aventaron': 46, 'las': 47, 'culebras': 48, 'los': 49, 'animales': 50, 'pero': 51, 'aventaban': 52, 'víboras': 53, 'muy': 54, 'grandes': 55, 'asusté': 56, 'que': 57, 'luego': 58, 'otra': 59, 'vez': 60, 'nomás,': 61, 'entré': 62, 'la': 63, 'escuela': 64, 'hallé': 65, 'supe': 66, 'nada': 67, 'sacaron': 68, 'sacó': 69, 'padre': 70, 'madre': 71, 'pobrecita': 72, 'tenía': 73, 'necesidad': 74, 'así': 75, 'sufrí': 76, 'allí': 77, 'hubo': 78, 'el': 79, 'señor': 80, 'ha': 81, 'amoratado': 82, 'ojo': 83, 'va': 84, 'emborrachar': 85, 'quiere': 86, 'camino': 87, 'atrás': 88, 'iglesia': 89, 'despedezarán': 90, 'gallos': 91, 'sentaron': 92, 'un': 93, 'palito': 94, 'morillito': 95, 'para': 96, 'despedazar': 97, 'al': 98, 'gallo': 99, 'quien': 100, 'ganaba': 101, 'pie': 102, 'ala': 103, 'una': 104, 'pechuga': 105, 'tripa': 106, 'esa': 107, 'encontraba': 108, 'le': 109, 'arrebataban': 110, 'todo': 111, 'hasta': 112, 'hubieron': 113, 'embarrado': 114, 'sangre': 115, 'suciedad': 116, 'ropas': 117, 'eran': 118, 'muchos': 119, 'caballero': 120, 'hartos': 121, 'caballeros': 122, 'caballos': 123, 'acababan': 124, 'descansaban': 125, 'quién': 126, 'cortaba': 127, 'nadie': 128, 'veinte': 129, 'o': 130, 'treinta': 131, 'lo': 132, 'quitaron': 133, 'hay': 134, 'antes': 135, 'yo': 136, 'crecí,': 137, 'decía': 138, 'abuelo': 139, 'abuela': 140, 'contó': 141, 'dijeron': 142, 'tenían': 143, 'qué': 144, 'lavar': 145, 'había': 146, 'trabajo': 147, 'hacienda': 148, 'cualquier': 149, 'gente': 150, 'salía': 151, 'cinco': 152, 'pesos': 153, 'mujer': 154, 'dos': 155, 'cincuenta': 156, 'ahora': 157, 'gana': 158, 'construyeron': 159, 'obras': 160, 'donde': 161, 'trabajaba': 162, 'méxico': 163, 'toluca': 164, 'nuestras': 165, 'abuelas': 166, 'nuestros': 167, 'puede': 168, 'decir': 169, 'más': 170, 'cambia': 171, 'tres': 172, 'veces': 173, 'ni': 174, 'delantal': 175, 'saco': 176, 'rebozo': 177, 'jabón': 178, 'encontraban': 179, 'lavaban': 180, 'tequesquite': 181, 'decían': 182, 'sana': 183, 'gothá”': 184, 'caros': 185, 'cosa': 186, 'triste': 187, 'daba': 188, 'lástima': 189, 'comer': 190, 'dice': 191, 'ese': 192, 'tiempo': 193, 'comieron': 194, 'nopales': 195, 'crudos': 196, 'mucha': 197, 'murió': 198, 'sepa': 199, 'este': 200, 'alegran': 201, 'abuelita': 202, 'acuerdo': 203, 'temían,': 204, 'dizque': 205, 'burritos': 206, 'les': 207, 'animalitos': 208, 'justicia': 209, 'pegan': 210, 'mujeres': 211, 'tontas': 212, 'sufrían': 213, 'bastante': 214, 'es': 215, 'tonta': 216, 'paguen': 217, 'centavo': 218, 'tengan': 219, 'quejarse': 220, 'modo': 221, 'abuelitas': 222, 'sufrieron': 223, 'señores': 224, 'encaojosos': 225, 'engañaban,': 226, 'cobra': 227, 'limosna': 228, 'fiesta': 229, 'celebre': 230, 'compran': 231, 'flores': 232, 'van': 233, 'caminar': 234, 'quema': 235, 'torito': 236, 'festeje': 237, 'sábado': 238, 'ltimo': 239, 'día,': 240, 'lunes': 241, 'termina': 242, 'fiestas': 243, 'iré': 244, 'cortar': 245, 'palma': 246, 'vale': 247, 'quince': 248, 'vueltas': 249, 'hormar': 250, 'cuarto': 251, 'vayan': 252, 'segundas': 253, 'palmas': 254, 'termino': 255, 'cuarta': 256, 'vuelta': 257, 'veinticinco': 258, 'cuesta': 259, 'empiece': 260, 'cortarlo': 261, 'empezando': 262, 'apenas': 263, 'voy': 264, 'vender': 265, 'puro': 266, 'sin': 267, 'plástico': 268, 'sé': 269, 'trabajos': 270, 'tanto': 271, 'ves': 272, 'berro': 273, 'parece': 274, 'sólo': 275, 'pantano': 276, 'llama': 277, 'escorpión': 278, 'cómo': 279, 'también': 280, 'vimos': 281, 'ninguna': 282, 'esas': 283, 'pican': 284, 'fino': 285, 'estaba': 286, 'seco': 287, 'nico': 288, 'mucho': 289, 'víbora': 290, 'pica': 291, 'quelite': 292, 'sí,': 293, 'está': 294, 'comedor': 295, 'vaca': 296, 'come': 297, 'su': 298, 'alimento': 299, 'sacamos': 300, 'tome': 301, 'agua': 302, 'afuera': 303, 'usamos': 304, 'pocito': 305, 'usábamos': 306, 'vendía': 307, 'nuestra': 308, 'del': 309, 'pozo': 310, 'llave': 311, 'quitamos': 312, 'aquí': 313, 'pollo': 314, 'he': 315, 'fabricado': 316, 'nidos': 317, 'pollos': 318, 'esos': 319, 'duerman': 320, 'tierra': 321, 'pelean': 322, 'quiebran': 323, 'huevos': 324, 'encierro': 325, 'guajolotes': 326, 'arriba': 327, 'recogen': 328, 'gallinas': 329, 'asado': 330, 'batimos': 331, 'lodo': 332, 'cerrar': 333, 'temascal': 334, 'hemos': 335, 'cerrado': 336, 'puerta': 337, 'meter': 338, 'olotes': 339, 'derraman': 340, 'allá': 341, 'mejor': 342, 'acomodo': 343, 'lugarcito': 344, 'sirven': 345, 'quemarlos': 346, 'soncolotes': 347, 'metemos': 348, 'mazorcas': 349, 'desocupado': 350, 'meto': 351, 'mientras': 352, 'separado': 353, 'cuartito': 354, 'guardar': 355, 'hierbas': 356, 'mojen': 357, 'lluvia': 358, 'mojan': 359, 'riegan': 360, 'viene': 361, 'viento': 362, 'lleva': 363, 'riega': 364, 'comprado': 365, 'piedras': 366, 'laven': 367, 'niñas': 368, 'chiquitas': 369, 'tiene': 370, 'lavadero': 371, 'sientan': 372, 'lavo': 373, 'lavan': 374, 'tapanco': 375, 'metido': 376, 'ollas': 377, 'dejado': 378, 'llevo': 379, 'caen': 380, 'despostillan': 381, 'dejo': 382, 'libros': 383, 'guardado': 384, 'están)': 385, 'tenido': 386, 'guardadas': 387, 'mazorquitas': 388, 'están': 389, 'ratas': 390, 'comen': 391, 'fogón,': 392, 'fabrico': 393, 'varilla': 394, 'quemo': 395, 'estufa': 396, 'todos': 397, 'ensucia': 398, 'cenizas': 399, 'pongo': 400, 'nixtamal': 401, 'comida': 402, 'pura': 403, 'hierba': 404, 'olote': 405, 'tengo': 406, 'hojas': 407, 'maíz': 408, 'colgadas': 409, 'siempre': 410, 'todavía': 411, 'acabo': 412, 'tienda': 413, 'fueron': 414, 'traer': 415, 'aguardiente': 416, 'untarme': 417, 'dolía': 418, 'cabeza': 419, 'vecinos': 420, 'trasladaron': 421, 'igual': 422, 'manera': 423, 'movió': 424, 'palo': 425, 'fue': 426, 'medio': 427, 'cayó': 428, 'zanja': 429, 'llena': 430, 'hija': 431, 'dueño': 432, 'bajó': 433, 'desvistió,': 434, 'quitó': 435, 'toda': 436, 'dejó': 437, 'desnuda': 438, 'tarde': 439, 'jugaba': 440, 'prima': 441, 'hermana': 442, 'crecido': 443, 'más,': 444, 'hombres': 445, 'pelearon': 446, 'peleado': 447, 'pudridero': 448, 'embarró': 449, 'sino': 450, 'lentejilla': 451, 'llenaba': 452, 'empujado': 453, 'echó': 454, 'segunda': 455, 'tercera': 456, 'hermano': 457, 'tío': 458, 'fuimos': 459, 'alimentar': 460, 'l': 461, 'hablar': 462, 'vine': 463, 'traje': 464, 'puese': 465, 'desvestí': 466, 'sus': 467, 'vestí': 468, 'pantaleta': 469, 'cayó,': 470, 'iba': 471, 'vestir': 472, 'críe,': 473, 'pegaba': 474, 'nunca': 475, 'verme': 476, 'estuvieramos': 477, 'paz': 478, 'veía': 479, 'barría': 480, 'vacas': 481, 'bien': 482, 'enojaba': 483, 'pasturas': 484, 'llegaba': 485, 'encontrar': 486, 'montón': 487, 'grande': 488, 'contento': 489, 'si': 490, 'agarraba': 491, 'nos': 492, 'mamá': 493, 'odio': 494, 'tu': 495, 'ti': 496, 'sabe': 497, 'pasa': 498, 'digo': 499, 'te': 500, 'hacemos': 501, 'parezco': 502, 'mandado': 503, 'gusta': 504, 'mandados': 505, 'quiero': 506, 'trabajen': 507, 'poco': 508, 'conformo': 509, 'emborrachara': 510, 'juicio': 511, 'tristeza': 512, 'sentaba': 513, 'llorar': 514, 'salía,': 515, 'andar': 516, 'caminabamos': 517, 'teníamos': 518, 'pelea': 519, 'envió': 520, 'descansaba': 521, 'miércoles': 522, 'viernes': 523, 'allí,': 524, 'vi': 525, 'duro': 526, 'preferí': 527, 'salirme': 528, 'ir': 529, 'fuí': 530, 'falto': 531, 'peso': 532, 'centavos': 533, 'llevaba': 534, 'tortilla': 535, 'salecita': 536, 'yema': 537, 'queso': 538, 'jamás': 539, 'vida': 540, 'caso': 541, 'darme': 542, 'algo': 543, 'llevara': 544, 'salsita': 545, 'quelitito': 546, 'comía': 547, 'sal': 548, 'haría': 549, 'fabricaría,': 550, 'querer': 551, 'cansé': 552, 'salí,': 553, 'hombre': 554, 'hable': 555, 'salgo': 556, 'soporto': 557, 'estoy': 558, 'estaré': 559, 'menos': 560, 'aquí”': 561, 'dije': 562, 'salí': 563, 'hablado': 564, 'señor,': 565, 'ido': 566, 'viniera': 567, 'vieran': 568, 'observaran': 569, 'mes': 570, 'han': 571, 'gritado': 572, 'maldecido': 573, 'hermanas': 574, 'dicen': 575, 'esposo': 576, 'buscamos': 577, 'estamos': 578, 'labora': 579, 'ayudo': 580, 'gracias': 581, 'dios': 582, 'crecieron': 583, 'niños': 584, 'hijo': 585, 'ayudan': 586, 'sembraban': 587, 'correteaban': 588, 'bamos': 589, 'comprar': 590, 'comíamos': 591, 'casas': 592, 'juntaban': 593, 'caquita': 594, 'patrón': 595, 'qué?': 596, 'crecía': 597, 'iremos': 598, 'alcanzar': 599, 'acocilitos': 600, 'bordo': 601, 'vamos': 602, 'venderlo': 603, 'comerlo': 604, 'vendemos': 605, 'queramos': 606, 'pasamos': 607, 'llevan': 608, 'sombreros': 609, 'vas': 610, 'comes': 611, 'traes': 612, 'aceite': 613, 'peróleo,': 614, 'jabón,': 615, 'cal': 616, 'caminas': 617, 'tienen': 618, 'siquiera': 619, 'carro': 620, 'regresas': 621, 'quieras': 622, 'niño,': 623, 'cocinaba': 624, 'preparaba': 625, 'tortillita': 626, 'siendo': 627, 'chica': 628, 'mandaron': 629, 'dejar': 630, 'llevamos': 631, 'regañan': 632, 'acabaremos': 633, 'carne': 634, 'comimos': 635, 'amaneciendo': 636, 'dile': 637, 'cuñada': 638, 'mandó': 639, 'carnita': 640, 'sé,': 641, 'ella': 642, 'véte,': 643, 'dices': 644, 'véte': 645, 'mandé': 646, 'dijo': 647, 'vino': 648, 'habló:': 649, 'mandé,': 650, 'malcriadas': 651, 'podríamos': 652, 'hacer': 653, 'tirar': 654, 'niegas': 655, 'ustedes': 656, 'hicieron': 657, 'llevé': 658, 'sentarnos': 659, 'llevaban': 660, 'estaban': 661, 'moría': 662, 'burro': 663, 'cuna': 664, 'pobrecitos': 665, 'llegaran': 666, 'enfermedad': 667, 'matí': 668, 'llegara': 669, 'morían': 670, 'gentes': 671, 'aunque': 672, 'hierbita': 673, 'cebadita': 674, 'espiguita': 675, 'maicito': 676, 'hambre': 677, 'quedaron': 678, 'acabaron': 679, 'encontraron': 680, 'asiento': 681, 'pulque': 682, 'curaron': 683, 'pusieron': 684, 'agrio': 685, 'difunto': 686, 'cuatro': 687, 'barriles': 688, 'muchas': 689, 'pulquito': 690, 'alcanza': 691, 'soy': 692, 'pobre': 693, 'pedido': 694, 'bailes': 695, 'lapiz': 696, 'cuaderno': 697, 'cubeta': 698, 'jerga': 699, 'cooperación': 700, 'mil': 701, 'doscientos': 702, 'trescientos': 703, 'construido': 704, 'da': 705, 'abasto': 706, 'mantener': 707, 'hijos': 708, 'sufrimos': 709, 'solamente': 710, 'ricos': 711, 'sufre': 712, 'buscar': 713, 'aquí,': 714, 'eh': 715, 'nosotros': 716, 'san': 717, 'andrés': 718, 'estuvimos': 719, 'sembrando': 720, 'hace': 721, 'año': 722, 'estuvo': 723, 'lechero': 724, 'vemos': 725, 'lejos': 726, 'dio': 727, 'yuntita': 728, 'borracho': 729, 'ríe': 730, 'acerca': 731, 'semana': 732, 'santa': 733, 'sembramos': 734, 'sembrar': 735, 'pronto': 736, 'ojalá': 737, 'llegue': 738, 'frío': 739, 'sacaríamos': 740, 'cosecha': 741, 'venga': 742, 'esperamos': 743, 'señora': 744, 'emborrachó': 745, 'dormir': 746, 'vecino': 747, 'mañana': 748, 'levantó': 749, 'neblina': 750, 'irse': 751, 'pasó': 752, 'llevar': 753, 'esta': 754, 'rana': 755, 'almorzar': 756, 'caminó': 757, 'media': 758, 'parcela': 759, 'milpa': 760, 'pensando': 761, 'destapó': 762, 'vió': 763, 'charro': 764, 'chiquito': 765, 'sentado': 766, 'visto': 767, 'instante': 768, 'tiró': 769, 'hora': 770, 'tiró,': 771, 'creció': 772, 'sobrepasó': 773, 'después,': 774, 'desde': 775, 'momento': 776, 'recuerda': 777, 'grandote': 778, 'recordado': 779, 'buscaron': 780, 'dónde': 781, 'estado': 782, 'emborracharía,': 783, 'separaron': 784, 'uno': 785, 'lado': 786, 'otro': 787, 'buenavista': 788, 'choza': 789, 'vivía': 790, 'vive': 791, 'adentro': 792, 'cara': 793, 'dado': 794, 'preguntó:': 795, 'pasado': 796, 'verde': 797, 'negra': 798, 'alzado': 799, 'pesaba': 800, 'kilos': 801, 'venido': 802, 'caminado': 803, 'elegante': 804, 'tiré,': 805, 'tiré': 806, 'parecía': 807, 'estiró,': 808, 'tiro': 809, 'recuerdo': 810, 'recogerla': 811, 'curarla': 812, 'acostaron': 813, 'compuso': 814, 'embarazó': 815, 'enfermó': 816, 'rentaban': 817, 'enfermó:': 818, 'vivir': 819, 'estemos': 820, 'allí”': 821, 'llega': 822, 'además': 823, 'duerme': 824, 'conmigo': 825, 'marido': 826, 'pascuala': 827, 'siente': 828, 'duerma': 829, 'metió': 830, 'cobija': 831, 'dormimos': 832, 'llegaron': 833, 'regresaron': 834, 'unos': 835, 'cuantos': 836, 'días': 837, 'vivieron': 838, 'diario': 839, 'noche': 840, 'dormía': 841, 'mudemos': 842, 'rentaron': 843, 'siguió': 844, 'llegando': 845, 'vámonos': 846, 'dejáramos,': 847, 'dejaría': 848, 'estuvieran': 849, 'vivieran': 850, 'buscarla': 851, 'decía,': 852, 'seguido': 853, 'juntos': 854, 'dormirse': 855, 've': 856, 'diría': 857, 'día': 858, 'duermas': 859, 'sientes': 860, 'siento': 861, 'duermo': 862, 'paro': 863, 'despertaría,': 864, 'iría': 865, 'despierta': 866, 'trasladó': 867, 'sea': 868, 'dejaba': 869, 'acostar': 870, 'asustaba': 871, 'quiso': 872, 'dejarla': 873, 'perseguía,': 874, 'perseguía': 875, 'trasladado': 876, 'embarazado': 877, 'encontrado': 878, 'parió,': 879, 'estómago': 880, 'parido': 881, 'bajado': 882, 'morir': 883, 'mismo': 884, 'murieron': 885, 'quedó': 886, 'chico': 887, 'otros': 888, 'salido': 889, 'venía': 890, 'teniendo': 891, 'diez': 892, 'años': 893, 'solo': 894, 'vivió': 895, 'muerto': 896, 'embarazada': 897, 'desgrano': 898, 'cocinar': 899, 'cuartillos': 900, 'tardo': 901, 'desgranando': 902, 'sola': 903, 'desgranar': 904, 'limpiar': 905, 'mido': 906, 'cocinas': 907, 'prende': 908, 'agrego': 909, 'litros': 910, 'cada': 911, 'cocido': 912, 'molino': 913, 'guarda': 914, 'bote': 915, 'aguantan': 916, 'doce': 917, 'kilitos': 918, 'alimentan': 919, 'son': 920, 'cocino': 921, 'brincaba': 922, 'cantaba': 923, 'bailaba': 924, 'quítate': 925, 'ahí”,': 926, 'habiendo': 927, 'traerlo': 928, 'sacarlo': 929, 'traigo': 930, 'estás': 931, 'entonces?”': 932, 'pareces': 933, 'loco”,': 934, 'campo': 935, 'jugar': 936, 'pegó': 937, 'pelota': 938, '¿por': 939, 'regaño,': 940, 'hermano”,': 941, 'saber': 942, 'pienso': 943, '¡ay!': 944, 'regaño': 945, 'carnal?”': 946, 'llévatelo,': 947, 'mareó': 948, 'vengas': 949, 'quedas': 950, 'irme': 951, 'contigo”,': 952, 'quedarse': 953, 'padre”,': 954, 'amiga': 955, 'cortó': 956, 'caña': 957, 'comí': 958, 'llegué': 959, 'senté': 960, 'orilla': 961, 'diarrea': 962, 'vómito': 963, 'sol': 964, 'pasados': 965, 'meses': 966, 'aliviaron': 967, 'hubiera': 968, 'sentar': 969, 'hacía': 970, 'trajo': 971, 'hicieran': 972, 'lavado': 973, 'conocer': 974, 'cañas': 975, 'pasión': 976, 'historia': 977, 'crudas': 978, 'atacó': 979, 'viruela': 980, 'entró': 981, 'vacunas': 982, 'granos': 983, 'salieron': 984, 'dentro': 985, 'acordé,': 986, 'ramo': 987, 'ropa': 988, 'envuelta': 989, 'blanca': 990, 'podía': 991, 'tortillas': 992, 'padrecito': 993, 'curó': 994, 'alivié': 995, 'trabajé': 996, 'fuera': 997, 'aliviándome,': 998, 'solté': 999, 'carreta': 1000, 'cargaba': 1001, 'hermanos': 1002, 'chicos': 1003, 'pasé': 1004, 'emborrachaba': 1005, 'cocinarnos': 1006, 'ponía': 1007, 'cuartillo': 1008, 'cocía': 1009, 'tronaba': 1010, 'crudo': 1011, 'mañana,': 1012, 'seis': 1013, 'tortillitas': 1014, 'puros': 1015, 'esquites': 1016, 'llenábamos': 1017, 'tostaba': 1018, 'hablaban': 1019, 'apurara': 1020, 'cocinarles': 1021, 'aprendía': 1022, 'moler': 1023, 'crecí': 1024, 'volví': 1025, 'escarbó': 1026, 'montaba': 1027, 'hablaba': 1028, 'espalda': 1029, 'tal': 1030, 'traía': 1031, 'culpa': 1032, 'esquite': 1033, 'apuraban': 1034, 'coraje': 1035, 'nica': 1036, 'habrían': 1037, 'casar': 1038, 'casaban': 1039, 'casamiento': 1040, 'arreglo': 1041, 'arreglaban': 1042, 'habría': 1043, 'pancita': 1044, 'molito': 1045, 'arreglar': 1046, 'quedaba': 1047, 'quería,': 1048, 'enyonces': 1049, 'depende': 1050, 'quedar': 1051, 'queda': 1052, 'consuegros': 1053, 'quieren': 1054, 'trabajara': 1055, 'querido': 1056, 'traían': 1057, 'habido': 1058, 'iban': 1059, 'olla': 1060, 'novia': 1061, 'novio': 1062, 'llevó': 1063, 'dejarle': 1064, 'fogón': 1065, 'conjunto': 1066, 'niño': 1067, 'habas': 1068, 'floja': 1069, 'robaba': 1070, 'haba': 1071, 'venderle': 1072, 'sacaba': 1073, 'panes': 1074, 'darle': 1075, 'escarbaba': 1076, 'pantanos': 1077, 'dinero': 1078, 'ceñía': 1079, 'metros': 1080, 'lonita': 1081, 'pecito': 1082, 'trapo': 1083, 'sigo': 1084, 'yendo': 1085, 'sufrí,': 1086, 'dolió': 1087, 'hablo': 1088, 'dime': 1089, 'hacen': 1090, 'cantera': 1091, 'traigamos': 1092, 'piedra': 1093, 'tronar': 1094, 'pólvora': 1095, 'agujerea': 1096, 'barreno': 1097, 'agujeremos': 1098, 'tronemos': 1099, 'cuántas': 1100, 'pueden': 1101, 'salir': 1102, 'trueno': 1103, 'puedes': 1104, 'mediana': 1105, 'posible': 1106, 'salga': 1107, 'terminando': 1108, 'recoge': 1109, 'troza': 1110, 'osea': 1111, 'parte': 1112, 'trozos': 1113, 'molcajetes': 1114, 'metates': 1115, 'fabrique': 1116, 'molcajete': 1117, 'cuánto': 1118, 'venden': 1119, 'allá?': 1120, 'acabado': 1121, 'mínimo': 1122, 'ciento': 1123, 'docena': 1124, 'terminado': 1125, 'nomás?': 1126, 'trozo': 1127, 'metate': 1128, 'dedican': 1129, 'mantienen': 1130, 'principal': 1131, 'empezaron': 1132, 'abuelos': 1133, 'tatarabuelos': 1134, 'nuestro': 1135, 'jefe': 1136, 'intentado': 1137, 'fabricar': 1138, 'figurita': 1139, 'guila': 1140, 'busto': 1141, 'ejemplo': 1142, 'empezado': 1143, 'zapata': 1144, 'empezada': 1145, 'empezaste': 1146, 'invitado': 1147, 'ayuntamiento': 1148, 'fuente': 1149, 'has': 1150, 'fuentes': 1151, 'centro': 1152, 'calvario': 1153, 'sabido': 1154, 'sillón': 1155, 'bautisterio': 1156, 'atrio': 1157, 'panteón': 1158, 'florero': 1159, 'mero': 1160, 'fabricando': 1161, 'figuras': 1162, 'esculturas': 1163, 'tienes': 1164, 'propia': 1165, 'compro': 1166, 'tampoco': 1167, 'pedazo': 1168, 'habíamos': 1169, 'quitado': 1170, 'activo': 1171, 'compras': 1172, 'ahí': 1173, 'tan': 1174, 'caro': 1175, 'ganarle': 1176, 'negocio': 1177, 'debe': 1178, 'ser': 1179, 'hagamos': 1180, 'tejolote': 1181, 'piedrita': 1182, 'chiquita': 1183, 'primero': 1184, 'emparejamos': 1185, 'muele': 1186, 'damos': 1187, 'circulito': 1188, 'mediano': 1189, 'quebrarémos': 1190, 'bonito': 1191, 'medida': 1192, 'largo': 1193, 'grueso': 1194, 'suele': 1195, 'empezar': 1196, 'empieza': 1197, 'fabricarlos': 1198, 'terminaremos': 1199, 'trozando': 1200, 'tantito': 1201, 'regular': 1202, 'empezamos': 1203, 'trozar': 1204, 'punzón': 1205, 'pulimos': 1206, 'cincel': 1207, 'ancho': 1208, 'manejar': 1209, 'martillo': 1210, 'aprenderá': 1211, 'pula': 1212, 'empareja': 1213, 'círculo': 1214, 'estando': 1215, 'limpia': 1216, 'emparejar': 1217, 'cinta': 1218, 'cuánta': 1219, 'escarba': 1220, 'fabrica': 1221, 'traza': 1222, 'agarra': 1223, 'lava': 1224, 'decimos': 1225, 'redonda': 1226, 'pulimo': 1227, 'debajo': 1228, 'alrededor': 1229, 'niñitos': 1230, 'aprendieron': 1231, 'manos': 1232, 'aprendido': 1233, 'aprender': 1234, 'maneral': 1235, 'quebrar': 1236, 'truenan': 1237, 'cuántos': 1238, 'terminan': 1239, 'dar': 1240, 'sabrán': 1241, 'crezcan': 1242, 'aprendan': 1243, 'trabajoso': 1244, 'tumben': 1245, 'patas': 1246, 'hagan': 1247, 'así,': 1248, 'casi': 1249, 'despacio': 1250, 'pulen': 1251, 'sepan': 1252, 'fabricamos': 1253, 'puedo': 1254, 'sacar': 1255, 'planchita': 1256, 'pata': 1257, 'medimos': 1258, 'marcamos': 1259, 'partirlo': 1260, 'raya': 1261, 'cuadrada': 1262, 'mano': 1263, 'fabricas': 1264, 'verdad': 1265, 'trozamos': 1266, 'agarramos': 1267, 'manita': 1268, 'cien': 1269, 'trozan': 1270, 'vendes': 1271, 'trozado': 1272, 'raro': 1273, 'comprarlo': 1274, 'trajiste': 1275, 'fabricarás': 1276, 'limpiaste': 1277, 'menor': 1278, 'cargara': 1279, 'pesado': 1280, 'entonce': 1281, 'traen': 1282, 'manitas': 1283, 'trayendo': 1284, 'burros': 1285, 'cargan': 1286, 'docenas': 1287, 'martillado': 1288, 'quito': 1289, 'que...': 1290, 'trocé': 1291, 'ley': 1292, 'pesados': 1293, 'trae': 1294, 'trozados': 1295, 'burrito': 1296, 'aguntar': 1297, 'demás': 1298, 'aguantar': 1299, 'tú': 1300, 'empresto': 1301, 'necesario': 1302, 'trabajemos': 1303, 'marro': 1304, 'trocemos': 1305, 'sí': 1306, 'raje': 1307, 'normalmente': 1308, 'marros': 1309, 'cuñas': 1310, 'rajemos': 1311, 'unas': 1312, 'saquemos': 1313, 'mamposterías,': 1314, 'importa': 1315, 'comportado': 1316, 'comprendido': 1317, 'porqué': 1318, 'dejé': 1319, 'entiende': 1320, 'enojan': 1321, 'madrugada': 1322, 'sale': 1323, 'emparejo': 1324, 'cierro': 1325, 'patea': 1326, 'plato': 1327, 'chiquihuite': 1328, 'portado': 1329, 'ayuda': 1330, 'habla': 1331, 'entienden': 1332, 'trato': 1333, 'ponen': 1334, 'contra': 1335, 'mía': 1336, 'regañen': 1337, 'gritan': 1338, 'insultan': 1339, 'creo': 1340, 'tuve': 1341, 'buena': 1342, 'difícil': 1343, 'pateó,': 1344, 'permito': 1345, 'español,': 1346, 'encerrar': 1347, 'quejar': 1348, 'pagaron': 1349, 'delegado': 1350, 'pago': 1351, 'haberlo': 1352, 'criado': 1353, 'cuándo': 1354, 'oído': 1355, 'saldrá': 1356, 'diecinueve': 1357, 'oíste': 1358, 'será': 1359, 'sabrá': 1360, 'sacerdote': 1361, 'escogió': 1362, 'llamar': 1363, 'jugaban': 1364, 'escoger': 1365, 'chente': 1366, 'consultarlo': 1367, 'sería': 1368, 'cristo': 1369, 'haber': 1370, 'aguanto': 1371, 'ayunar': 1372, 'serlo': 1373, 'decirle': 1374, 'volvió': 1375, 'habló': 1376, 'habló,': 1377, 'juzgado': 1378, 'conviene': 1379, 'forma': 1380, 'escogido': 1381, 'ltimamente': 1382, 'domingo': 1383, 'presentar': 1384, 'empezará': 1385, 'ramos': 1386, 'emilio': 1387, 'cuidar': 1388, 'fueran': 1389, 'pastar': 1390, 'regresaba': 1391, 'ordeñarlas': 1392, 'volvíamos': 1393, 'fuímos': 1394, 'poseíamos': 1395, 'zapatos': 1396, 'aguas': 1397, 'llegado': 1398, 'llovía': 1399, 'cuidábamos': 1400, 'llegábamos': 1401, 'echábamos': 1402, 'levantábamos': 1403, 'sacábamos': 1404, 'metíamos': 1405, 'corral': 1406, 'trabajábamos': 1407, 'fecha': 1408, 'gustaba': 1409, 'tenerlos': 1410, 'eramos': 1411, 'comprando': 1412, 'becerritas': 1413, 'costumbre': 1414, 'pastorees': 1415, 'encerrarlas': 1416, 'des': 1417, 'arrebató': 1418, 'regreso': 1419, 'tía': 1420, 'monto': 1421, 'monté,': 1422, 'patadas': 1423, 'traslado': 1424, 'llegó': 1425, 'pepenar': 1426, 'hongo': 1427, 'llevó,': 1428, 'encontramos': 1429, 'hongos': 1430, 'botecito': 1431, 'chilito': 1432, 'vámonos”,': 1433, 'vámonos”': 1434, 'paré': 1435, 'encontró': 1436, 'enseñó': 1437, 'viera': 1438, 'encontré': 1439, 'camina': 1440, 'buscas': 1441, 'caminé': 1442, 'crecida': 1443, 'asuste': 1444, 'rápido': 1445, 'paso': 1446, 'aventé': 1447, 'eché': 1448, 'observé': 1449, 'culebra': 1450, 'serpiente': 1451, 'grandota': 1452, 'culebrita': 1453, 'perro': 1454, 'doña': 1455, 'maría': 1456, 'decías': 1457, 'veía,': 1458, 'vigilaba': 1459, 'terrenos': 1460, 'animal': 1461, 'nuquita': 1462, 'ojos': 1463, 'perros': 1464, 'corrí': 1465, 'quité': 1466, 'grité': 1467, 'víbora”,': 1468, 'pasará': 1469, 'matar”,': 1470, 'grande”,': 1471, 'quédate;': 1472, 'vengo': 1473, 'miedo': 1474, 'enfermé': 1475, 'curé': 1476, 'copal': 1477, 'quemadito': 1478, 'untó': 1479, 'cuerpo': 1480, 'niñito': 1481, 'ganó': 1482, 'fea': 1483, 'aparece': 1484, 'lengua': 1485, 'prendió': 1486, 'cuerno': 1487, 'ayer': 1488, 'bauticé': 1489, 'salimos': 1490, 'amanecemos': 1491, 'comemos': 1492, 'refresco': 1493, 'sobró': 1494, 'comamos': 1495, 'refresquito': 1496, 'vinito': 1497, 'poner': 1498, 'cocer': 1499, 'sanguinaria': 1500, 'alfalfa': 1501, 'cuanto': 1502, 'descuidaba': 1503, 'patrón,': 1504, 'entraban': 1505, 'robar': 1506, 'revolución,': 1507, 'salían': 1508, 'soldados': 1509, 'matar': 1510, 'ellos': 1511, 'maría,': 1512, 'revolución': 1513, 'escapaba': 1514, 'escapaban': 1515, 'oías': 1516, 'sonar': 1517, 'campana': 1518, 'sido': 1519, 'pleito': 1520, 'guerra': 1521, 'aplastaron': 1522, 'aplastado': 1523, 'acaba': 1524, 'leche': 1525, 'bebé': 1526, 'acuesta': 1527, 'malcriado': 1528, 'alegra': 1529, 'enfermó,': 1530, 'alivió': 1531, 'aliviar': 1532, 'estas': 1533, 'medicinas': 1534, 'almuerces': 1535, 'habías': 1536, 'tere': 1537, 'aplastar': 1538, 'frijolito': 1539, 'peleando': 1540, 'aventó': 1541, 'aventar': 1542, 'baja': 1543, 'trepas': 1544, 'barrido': 1545, 'sucio': 1546, 'bañamos': 1547, 'juan': 1548, 'techo': 1549, 'ven': 1550, 'ayudarme': 1551, 'cargar': 1552, 'esto': 1553, 'comido': 1554, 'carnes': 1555, 'mercado': 1556, 'naranja': 1557, 'cuchillo': 1558, 'despertado': 1559, 'desvistete': 1560, 'bañes': 1561, 'dormido': 1562, 'chale': 1563, 'emborracha': 1564, 'hoy': 1565, 'empecé': 1566, 'vayas': 1567, 'empujar': 1568, 'botella': 1569, 'encargué': 1570, 'trajeran': 1571, 'pan': 1572, 'enferma': 1573, 'constantemente': 1574, 'creas': 1575, 'engaña': 1576, 'enséñale': 1577, 'escapado': 1578, 'papa': 1579, 'pega': 1580, 'ganado': 1581, 'aprende': 1582, 'gatear': 1583, 'dicho': 1584, 'llevarías': 1585, 'luis': 1586, 'mextepec': 1587, 'madura': 1588, 'chile': 1589, 'rojo': 1590, 'matado': 1591, 'mató': 1592, 'mordido': 1593, 'comió,': 1594, 'nació': 1595, 'agarró': 1596, 'negó': 1597, 'ordeñar': 1598, 'paga': 1599, 'debes': 1600, 'pastorear': 1601, 'peleó': 1602, 'picado': 1603, 'pulga': 1604, 'subir': 1605, 'rbol': 1606, 'puesto': 1607, 'movido': 1608, 'caja': 1609, 'preguntó': 1610, 'vienes': 1611, 'regañe': 1612, 'regresado': 1613, 'roba': 1614, 'bolsillo': 1615, 'sabrosa': 1616, 'camión': 1617, 'separamos': 1618, 'suena': 1619, 'campanita': 1620, 'papeles': 1621, 'irá': 1622, 'viste': 1623, 'pregunto': 1624, 'máquina': 1625, 'echarle': 1626, 'abono': 1627, 'poder': 1628, 'prestado': 1629, 'engrane': 1630, 'vaya': 1631, 'favor': 1632, 'ocho': 1633, 'días)': 1634, 'bueno': 1635, 'resolverá': 1636, 'suceda': 1637, 'rato': 1638, 'don': 1639, 'meterle': 1640, 'meta': 1641, 'tambor?”,': 1642, 'preste”,': 1643, 'dirá': 1644, 'llegamos': 1645, 'mojamos': 1646, 'ablanden': 1647, 'sacan': 1648, 'escurran': 1649, 'poquito': 1650, 'sacabamos': 1651, 'empezaramos': 1652, 'sombrero': 1653, 'echar': 1654, 'echa': 1655, 'tejen': 1656, 'otras': 1657, 'tejo': 1658, 'terminamos': 1659, 'años,': 1660, 'levantaba': 1661, 'temprano': 1662, 'cudarlas': 1663, 'ofrecían': 1664, 'buscaba': 1665, 'peones': 1666, 'yuntas': 1667, 'manteníamos': 1668, 'obra': 1669, 'trabajamos': 1670, 'dedicamos': 1671, 'irnos': 1672, 'poblar': 1673, 'dieciséis,': 1674, 'diecisiete': 1675, 'ganas': 1676, 'empecé,': 1677, 'sabíamos': 1678, 'español': 1679, 'salíamos,': 1680, 'salieramos': 1681, 'según': 1682, 'pagarles': 1683, 'trabajabamos': 1684, 'nacimos': 1685, 'español”': 1686, 'ignorábamos': 1687, 'cosas': 1688, 'ignoro': 1689, 'entendemos': 1690, 'pueblo': 1691, 'dedicó': 1692, 'ordeñaba': 1693, 'tenía,': 1694, 'dividirnos': 1695, 'sesenta': 1696, 'partimos': 1697, 'atrás,': 1698, 'completamente': 1699, 'cuñado': 1700, 'chalmita': 1701, 'pueblito': 1702, 'comió': 1703, 'pidió': 1704, 'terminó': 1705, 'pagar': 1706, 'cambio': 1707, 'entre': 1708, 'compañeros': 1709, 'billete': 1710, 'diosito': 1711, 'perdone': 1712, 'gastó': 1713, 'ay': 1714, 'gastarlo': 1715, 'finalmente': 1716, 'llegaré': 1717, 'cambiar': 1718, 'devolveré”,': 1719, 'pagó': 1720, 'encargar': 1721, 'anochecido': 1722, 'durmió': 1723, 'afortunadamente': 1724, 'animalito': 1725, 'olía': 1726, 'oler': 1727, 'gastó,': 1728, 'bajaba': 1729, 'fuer': 1730, 'juguetito': 1731, 'devolvía': 1732, 'bañarnos': 1733, 'parimos': 1734, 'aliviarnos': 1735, 'entramos': 1736, 'caben': 1737, 'trapos': 1738, 'taparnos': 1739, 'chiquitos': 1740, 'bebecitos': 1741, 'quitarles': 1742, 'bebes': 1743, 'sucios': 1744, 'fabricó': 1745, 'tabique': 1746, 'calentar': 1747, 'bañemos': 1748, 'frías': 1749, 'pajuelamos': 1750, 'vapor': 1751, 'quieres': 1752, 'llevas': 1753, 'poquita': 1754, 'quemarte': 1755, 'quemas': 1756, 'falta': 1757, 'conformas': 1758, 'vecinas': 1759, 'trasladé': 1760, 'puente': 1761, 'caí': 1762}\n"
          ],
          "name": "stdout"
        }
      ]
    },
    {
      "cell_type": "code",
      "metadata": {
        "id": "DwNWs3f6WRzn",
        "colab_type": "code",
        "outputId": "d8bd8546-1243-44de-b8aa-576c0ba9afcf",
        "colab": {
          "base_uri": "https://localhost:8080/",
          "height": 34
        }
      },
      "source": [
        "vector_size = len(hashmap)\n",
        "print(vector_size)"
      ],
      "execution_count": 6,
      "outputs": [
        {
          "output_type": "stream",
          "text": [
            "1763\n"
          ],
          "name": "stdout"
        }
      ]
    },
    {
      "cell_type": "code",
      "metadata": {
        "id": "dX22OmuHhcu8",
        "colab_type": "code",
        "colab": {}
      },
      "source": [
        "import numpy as np\n",
        "from scipy.special import softmax\n",
        "from math import exp\n",
        "\n",
        "class LanguageNeuralNetwork:\n",
        "  \n",
        "  def __init__(self,embedding_d,hidden_d,word_indexes,corpus):\n",
        "    self.embedding_d = embedding_d\n",
        "    self.hidden_d = hidden_d\n",
        "    self.word_indexes = word_indexes\n",
        "    self.corpus = corpus\n",
        "\n",
        "    self.vector_size = len(word_indexes)\n",
        "  \n",
        "  def split_into_bigrams(self,corpus=None,get_words=False):\n",
        "    bigrams = []\n",
        "    word_bigrams = []\n",
        "    corpus_sample = \"\"\n",
        "\n",
        "    if corpus is None:\n",
        "      corpus_sample = self.corpus\n",
        "    else : \n",
        "      corpus_sample = corpus\n",
        "\n",
        "\n",
        "    for sentence in corpus_sample:\n",
        "        n_word = len(sentence)\n",
        "        for index in range(0,n_word - 1 ):\n",
        "          \n",
        "          first_w_index = self.word_indexes[sentence[index]]\n",
        "          sec_w_index = self.word_indexes[sentence[index + 1]]\n",
        "\n",
        "          bigrams.append([first_w_index,\n",
        "                               sec_w_index\n",
        "                          ])\n",
        "          word_bigrams.append([sentence[index],\n",
        "                               sentence[index + 1]\n",
        "                               ])\n",
        "    \n",
        "    if get_words:\n",
        "      return bigrams,word_bigrams\n",
        "    \n",
        "    return bigrams\n",
        "\n",
        "  def feed_forward(self, X, Y):\n",
        "\n",
        "    self.Cx = np.reshape(np.dot(self.C,X), (self.embedding_d,1))             # Capa 1\n",
        "\n",
        "\n",
        "    pre_h = np.dot(self.W, self.Cx) + self.b\n",
        "\n",
        "    self.H =  np.tanh(pre_h)  # Capa 2\n",
        "\n",
        "    pre_a = np.dot(self.U,self.H) + self.c              # Capa 3 (Pre-activacion)\n",
        "\n",
        "    P = softmax(pre_a)\n",
        "\n",
        "\n",
        "\n",
        "    return P\n",
        "  \n",
        "  def back_propagation(self,P,Y,X,alpha):\n",
        "\n",
        "\n",
        "    c = np.reshape(self.Cx, (len(self.Cx),1))\n",
        "    h = np.reshape(self.H, (len(self.H),1))\n",
        "    in_vector = np.reshape(X, (len(X),1))\n",
        "    p = np.reshape(P , ( len(P), 1))\n",
        "    y = np.reshape(Y , (len (Y), 1))\n",
        "    D_out = p-y\n",
        "    D_h = (1 - h ** 2 ) * np.dot(self.U.T,D_out)\n",
        "    D_c = np.dot(self.W.T, D_h)\n",
        "\n",
        "\n",
        "    self.U = self.U - alpha * np.dot(D_out, h.T)\n",
        "    self.W = self.W - alpha * np.dot(D_h,c.T)\n",
        "    self.C = self.C - alpha * np.dot(D_c, in_vector.T)\n",
        "\n",
        "\n",
        "    self.b = self.b - alpha * D_h\n",
        "    self.c = self.c - alpha * D_out\n",
        "\n",
        "  def predict_string(self, string):\n",
        "    print(\"---------- Predicting ------------\")\n",
        "    print(\"{}\".format(string))\n",
        "    try:\n",
        "      bigrams,w_bigrams = self.split_into_bigrams(string,True)\n",
        "    except KeyError as error:\n",
        "      print(\"P = 0\")\n",
        "      print('La palabra \\'{}\\' no esta presente en el corpus original.'.format(error.args[0]))\n",
        "      return\n",
        "    probability_in_general = 1\n",
        "\n",
        "    for index,bigram in enumerate(bigrams):\n",
        "        #Obtenenemos los índices de las palabras en el bigrama\n",
        "        x_index = bigram[0]\n",
        "        y_index = bigram[1]\n",
        "        #Creamos los vectores one-hot\n",
        "        X = np.zeros(self.vector_size)\n",
        "        Y = np.zeros(self.vector_size)\n",
        "        X[x_index] = 1 \n",
        "        Y[y_index] = 1\n",
        "\n",
        "        P = self.feed_forward(X,Y)\n",
        "        bigram_P =P[y_index][0]\n",
        "\n",
        "\n",
        "        probability_in_general *= bigram_P\n",
        "        print('{} \\t P = {}'.format(w_bigrams[index],bigram_P))\n",
        "\n",
        "    print('P = {:.2E}'.format(probability_in_general))\n",
        "\n",
        "          \n",
        "  def train(self, epochs, alpha ):\n",
        "    bigrams = self.split_into_bigrams()\n",
        "    #Inicializamos los vectores de pesos con valores aleatorios\n",
        "    self.C = np.random.rand(self.embedding_d, self.vector_size)   # Pesos de la capa de embedding\n",
        "    self.W = np.random.rand(self.hidden_d, self.embedding_d)      # Pesos de la capa oculta\n",
        "    self.U = np.random.rand(self.vector_size, self.hidden_d)      # Pesos de la capa de salida\n",
        "    #Inicializamos los vectores de bias con valores aleatorios.\n",
        "    self.b = np.random.rand(self.hidden_d,1)\n",
        "    self.c = np.random.rand(self.vector_size,1)\n",
        "    history = []\n",
        "    for epoch in range(1,epochs):\n",
        "      cross_entropy = 0\n",
        "      for bigram in bigrams:\n",
        "        #Obtenenemos los índices de las palabras en el bigrama\n",
        "        x_index = bigram[0]\n",
        "        y_index = bigram[1]\n",
        "        #Creamos los vectores one-hot\n",
        "        X = np.zeros(self.vector_size)\n",
        "        Y = np.zeros(self.vector_size)\n",
        "        X[x_index] = 1 \n",
        "        Y[y_index] = 1\n",
        "\n",
        "        P = self.feed_forward(X,Y)\n",
        "        \n",
        "        y_reshaped = np.reshape(Y,(len(Y),1))\n",
        "        \n",
        "        self.back_propagation(P,Y,X,alpha)\n",
        "\n",
        "        loged =np.log(P)\n",
        "        \n",
        "        cross_entropy += -loged[y_index][0]\n",
        "                          \n",
        "      \n",
        "      cross_entropy = cross_entropy / self.vector_size\n",
        "      history.append(cross_entropy)\n",
        "      print(\" Epoch {} - > Cross Entropy = {:.2f}\".format(epoch,cross_entropy))\n",
        "    return  history\n",
        "    \n"
      ],
      "execution_count": 0,
      "outputs": []
    },
    {
      "cell_type": "code",
      "metadata": {
        "id": "MNpz_ndrmxLq",
        "colab_type": "code",
        "colab": {}
      },
      "source": [
        "embeding = 4 \n",
        "hidden = 10\n",
        "epochs = 100\n",
        "alpha = 0.1\n",
        "\n",
        "\n",
        "neural_language = LanguageNeuralNetwork(embeding,hidden,hashmap,clean_corpus)\n",
        "history = neural_language.train(epochs,alpha)"
      ],
      "execution_count": 0,
      "outputs": []
    },
    {
      "cell_type": "code",
      "metadata": {
        "id": "lzPRSeKlm0QT",
        "colab_type": "code",
        "outputId": "b6a655ba-1702-402e-a3ef-c5c0ed1ab21e",
        "colab": {
          "base_uri": "https://localhost:8080/",
          "height": 374
        }
      },
      "source": [
        "t = prepare_corpus('Nos bañamos con agua caliente')\n",
        "t2 = prepare_corpus('El animalito olía la cabeza')\n",
        "t3 = prepare_corpus('Pascuala ordeñaba las vacas')\n",
        "\n",
        "neural_language.predict_string(t)\n",
        "neural_language.predict_string(t2)\n",
        "neural_language.predict_string(t3)\n"
      ],
      "execution_count": 9,
      "outputs": [
        {
          "output_type": "stream",
          "text": [
            "---------- Predicting ------------\n",
            "[['+', 'nos', 'bañamos', 'con', 'agua', 'caliente', '-']]\n",
            "P = 0\n",
            "La palabra 'caliente' no esta presente en el corpus original.\n",
            "---------- Predicting ------------\n",
            "[['+', 'el', 'animalito', 'olía', 'la', 'cabeza', '-']]\n",
            "['+', 'el'] \t P = 0.005612243431544056\n",
            "['el', 'animalito'] \t P = 0.024773548364343943\n",
            "['animalito', 'olía'] \t P = 3.6296826301066163e-07\n",
            "['olía', 'la'] \t P = 0.5615519011751356\n",
            "['la', 'cabeza'] \t P = 0.043388756034748406\n",
            "['cabeza', '-'] \t P = 1.9653714649754727e-10\n",
            "P = 2.42E-22\n",
            "---------- Predicting ------------\n",
            "[['+', 'pascuala', 'ordeñaba', 'las', 'vacas', '-']]\n",
            "['+', 'pascuala'] \t P = 0.0001946144922637893\n",
            "['pascuala', 'ordeñaba'] \t P = 3.41777128368334e-06\n",
            "['ordeñaba', 'las'] \t P = 0.012834604624840878\n",
            "['las', 'vacas'] \t P = 0.08859615219685482\n",
            "['vacas', '-'] \t P = 9.01632959947231e-09\n",
            "P = 6.82E-21\n"
          ],
          "name": "stdout"
        }
      ]
    },
    {
      "cell_type": "code",
      "metadata": {
        "id": "3N-7ulIr8yPh",
        "colab_type": "code",
        "colab": {
          "base_uri": "https://localhost:8080/",
          "height": 295
        },
        "outputId": "23590f7d-dd11-4388-906b-17633b89b5a0"
      },
      "source": [
        "import matplotlib.pyplot as plt\n",
        "\n",
        "figure = plt.subplot(111)\n",
        "figure.set_title('Progresion')\n",
        "figure.set_ylabel('Entropía')\n",
        "figure.set_xlabel('Epoca')\n",
        "figure.plot(np.arange(0,len(history)), history )\n",
        "\n",
        "plt.show()"
      ],
      "execution_count": 10,
      "outputs": [
        {
          "output_type": "display_data",
          "data": {
            "image/png": "[encoded data removed]",
            "text/plain": [
              "<Figure size 432x288 with 1 Axes>"
            ]
          },
          "metadata": {
            "tags": [],
            "needs_background": "light"
          }
        }
      ]
    },
    {
      "cell_type": "code",
      "metadata": {
        "id": "LgZz53ePqujm",
        "colab_type": "code",
        "colab": {
          "base_uri": "https://localhost:8080/",
          "height": 119
        },
        "outputId": "d542eda5-9979-40c5-931d-464bc0e133d9"
      },
      "source": [
        "network_2 = LanguageNeuralNetwork(100,300,hashmap,clean_corpus)\n",
        "\n",
        "network_2.train(10,0.1)"
      ],
      "execution_count": 0,
      "outputs": [
        {
          "output_type": "stream",
          "text": [
            " Epoch 1 - > Cross Entropy = 186.83\n",
            " Epoch 2 - > Cross Entropy = 186.83\n",
            " Epoch 3 - > Cross Entropy = 186.83\n",
            " Epoch 4 - > Cross Entropy = 186.83\n",
            " Epoch 5 - > Cross Entropy = 186.83\n",
            " Epoch 6 - > Cross Entropy = 186.83\n"
          ],
          "name": "stdout"
        }
      ]
    },
    {
      "cell_type": "code",
      "metadata": {
        "id": "lXF9sMK7KV-D",
        "colab_type": "code",
        "colab": {}
      },
      "source": [
        ""
      ],
      "execution_count": 0,
      "outputs": []
    }
  ]
}